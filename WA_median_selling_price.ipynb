{
 "cells": [
  {
   "cell_type": "markdown",
   "metadata": {},
   "source": [
    "<b>The point of this project is to create a heat map of the median selling price per square foot of real estate in Washington state by zip code (and a YoY growth rate of this metric) using data from Zillow on real estate selling prices and the lat/lon mapping data is from federalgovernmentzipcodes.us"
   ]
  },
  {
   "cell_type": "code",
   "execution_count": 1,
   "metadata": {
    "collapsed": false
   },
   "outputs": [],
   "source": [
    "import pandas as pd\n",
    "import numpy as np\n",
    "import matplotlib.pyplot as plt\n",
    "from mpl_toolkits.basemap import Basemap"
   ]
  },
  {
   "cell_type": "code",
   "execution_count": 2,
   "metadata": {
    "collapsed": true
   },
   "outputs": [],
   "source": [
    "sales_data = pd.read_csv('Zip_MedianListingPricePerSqft_AllHomes.csv')\n",
    "zip_code_data = pd.read_csv('free-zipcode-database-Primary.csv')"
   ]
  },
  {
   "cell_type": "code",
   "execution_count": 3,
   "metadata": {
    "collapsed": false
   },
   "outputs": [],
   "source": [
    "wa_sales_data = pd.DataFrame(sales_data[sales_data[\"State\"]==\"WA\"])\n",
    "wa_sales_data.reset_index(inplace=True,drop=True)"
   ]
  },
  {
   "cell_type": "markdown",
   "metadata": {},
   "source": [
    "There are over 700 zip codes in Washington state so it is clear that we are missing a significant amount of data but my assumption is that most of the missing zip codes are from sparsely populated areas, we will have a better idea after the map is built "
   ]
  },
  {
   "cell_type": "code",
   "execution_count": 4,
   "metadata": {
    "collapsed": false
   },
   "outputs": [
    {
     "data": {
      "text/plain": [
       "284"
      ]
     },
     "execution_count": 4,
     "metadata": {},
     "output_type": "execute_result"
    }
   ],
   "source": [
    "len(wa_sales_data)"
   ]
  },
  {
   "cell_type": "code",
   "execution_count": 5,
   "metadata": {
    "collapsed": false
   },
   "outputs": [
    {
     "data": {
      "text/plain": [
       "count    284.000000\n",
       "mean     198.711039\n",
       "std       93.959080\n",
       "min       59.588165\n",
       "25%      142.681078\n",
       "50%      170.292515\n",
       "75%      218.295507\n",
       "max      734.135021\n",
       "Name: 2016-05, dtype: float64"
      ]
     },
     "execution_count": 5,
     "metadata": {},
     "output_type": "execute_result"
    }
   ],
   "source": [
    "#basic info about the most recent month\n",
    "wa_sales_data[\"2016-05\"].describe()"
   ]
  },
  {
   "cell_type": "code",
   "execution_count": 6,
   "metadata": {
    "collapsed": false
   },
   "outputs": [
    {
     "data": {
      "text/html": [
       "<div>\n",
       "<table border=\"1\" class=\"dataframe\">\n",
       "  <thead>\n",
       "    <tr style=\"text-align: right;\">\n",
       "      <th></th>\n",
       "      <th>RegionName</th>\n",
       "      <th>City</th>\n",
       "      <th>State</th>\n",
       "      <th>Metro</th>\n",
       "      <th>CountyName</th>\n",
       "      <th>SizeRank</th>\n",
       "      <th>2010-01</th>\n",
       "      <th>2010-02</th>\n",
       "      <th>2010-03</th>\n",
       "      <th>2010-04</th>\n",
       "      <th>...</th>\n",
       "      <th>2015-08</th>\n",
       "      <th>2015-09</th>\n",
       "      <th>2015-10</th>\n",
       "      <th>2015-11</th>\n",
       "      <th>2015-12</th>\n",
       "      <th>2016-01</th>\n",
       "      <th>2016-02</th>\n",
       "      <th>2016-03</th>\n",
       "      <th>2016-04</th>\n",
       "      <th>2016-05</th>\n",
       "    </tr>\n",
       "  </thead>\n",
       "  <tbody>\n",
       "    <tr>\n",
       "      <th>0</th>\n",
       "      <td>98052</td>\n",
       "      <td>Redmond</td>\n",
       "      <td>WA</td>\n",
       "      <td>Seattle</td>\n",
       "      <td>King</td>\n",
       "      <td>101</td>\n",
       "      <td>247.724215</td>\n",
       "      <td>244.422222</td>\n",
       "      <td>244.526587</td>\n",
       "      <td>239.941926</td>\n",
       "      <td>...</td>\n",
       "      <td>287.644860</td>\n",
       "      <td>289.334175</td>\n",
       "      <td>291.497420</td>\n",
       "      <td>293.351372</td>\n",
       "      <td>294.450736</td>\n",
       "      <td>298.824987</td>\n",
       "      <td>312.500000</td>\n",
       "      <td>305.853621</td>\n",
       "      <td>304.308786</td>\n",
       "      <td>312.472192</td>\n",
       "    </tr>\n",
       "    <tr>\n",
       "      <th>1</th>\n",
       "      <td>98103</td>\n",
       "      <td>Seattle</td>\n",
       "      <td>WA</td>\n",
       "      <td>Seattle</td>\n",
       "      <td>King</td>\n",
       "      <td>183</td>\n",
       "      <td>303.578725</td>\n",
       "      <td>302.162162</td>\n",
       "      <td>308.950086</td>\n",
       "      <td>309.999433</td>\n",
       "      <td>...</td>\n",
       "      <td>390.426571</td>\n",
       "      <td>389.784946</td>\n",
       "      <td>391.705069</td>\n",
       "      <td>391.705069</td>\n",
       "      <td>394.703947</td>\n",
       "      <td>406.474820</td>\n",
       "      <td>398.872683</td>\n",
       "      <td>407.801418</td>\n",
       "      <td>419.203414</td>\n",
       "      <td>419.098914</td>\n",
       "    </tr>\n",
       "    <tr>\n",
       "      <th>2</th>\n",
       "      <td>98012</td>\n",
       "      <td>Bothell</td>\n",
       "      <td>WA</td>\n",
       "      <td>Seattle</td>\n",
       "      <td>Snohomish</td>\n",
       "      <td>209</td>\n",
       "      <td>174.816434</td>\n",
       "      <td>173.239824</td>\n",
       "      <td>173.554493</td>\n",
       "      <td>173.520750</td>\n",
       "      <td>...</td>\n",
       "      <td>201.039114</td>\n",
       "      <td>201.065840</td>\n",
       "      <td>202.370212</td>\n",
       "      <td>203.732665</td>\n",
       "      <td>203.229699</td>\n",
       "      <td>205.253061</td>\n",
       "      <td>207.118644</td>\n",
       "      <td>211.184211</td>\n",
       "      <td>213.067708</td>\n",
       "      <td>214.715000</td>\n",
       "    </tr>\n",
       "    <tr>\n",
       "      <th>3</th>\n",
       "      <td>99301</td>\n",
       "      <td>Pasco</td>\n",
       "      <td>WA</td>\n",
       "      <td>Kennewick</td>\n",
       "      <td>Franklin</td>\n",
       "      <td>212</td>\n",
       "      <td>101.902037</td>\n",
       "      <td>103.328321</td>\n",
       "      <td>103.760446</td>\n",
       "      <td>106.513133</td>\n",
       "      <td>...</td>\n",
       "      <td>117.581602</td>\n",
       "      <td>117.913832</td>\n",
       "      <td>118.315415</td>\n",
       "      <td>119.307286</td>\n",
       "      <td>121.317276</td>\n",
       "      <td>121.869565</td>\n",
       "      <td>121.191176</td>\n",
       "      <td>123.003884</td>\n",
       "      <td>121.788746</td>\n",
       "      <td>121.745277</td>\n",
       "    </tr>\n",
       "    <tr>\n",
       "      <th>4</th>\n",
       "      <td>98133</td>\n",
       "      <td>Shoreline</td>\n",
       "      <td>WA</td>\n",
       "      <td>Seattle</td>\n",
       "      <td>King</td>\n",
       "      <td>355</td>\n",
       "      <td>218.454404</td>\n",
       "      <td>217.279213</td>\n",
       "      <td>223.938356</td>\n",
       "      <td>224.273875</td>\n",
       "      <td>...</td>\n",
       "      <td>252.380952</td>\n",
       "      <td>255.178954</td>\n",
       "      <td>255.070400</td>\n",
       "      <td>250.584795</td>\n",
       "      <td>257.575758</td>\n",
       "      <td>270.758123</td>\n",
       "      <td>266.868392</td>\n",
       "      <td>271.804723</td>\n",
       "      <td>272.701705</td>\n",
       "      <td>276.668729</td>\n",
       "    </tr>\n",
       "  </tbody>\n",
       "</table>\n",
       "<p>5 rows × 83 columns</p>\n",
       "</div>"
      ],
      "text/plain": [
       "   RegionName       City State      Metro CountyName  SizeRank     2010-01  \\\n",
       "0       98052    Redmond    WA    Seattle       King       101  247.724215   \n",
       "1       98103    Seattle    WA    Seattle       King       183  303.578725   \n",
       "2       98012    Bothell    WA    Seattle  Snohomish       209  174.816434   \n",
       "3       99301      Pasco    WA  Kennewick   Franklin       212  101.902037   \n",
       "4       98133  Shoreline    WA    Seattle       King       355  218.454404   \n",
       "\n",
       "      2010-02     2010-03     2010-04     ...         2015-08     2015-09  \\\n",
       "0  244.422222  244.526587  239.941926     ...      287.644860  289.334175   \n",
       "1  302.162162  308.950086  309.999433     ...      390.426571  389.784946   \n",
       "2  173.239824  173.554493  173.520750     ...      201.039114  201.065840   \n",
       "3  103.328321  103.760446  106.513133     ...      117.581602  117.913832   \n",
       "4  217.279213  223.938356  224.273875     ...      252.380952  255.178954   \n",
       "\n",
       "      2015-10     2015-11     2015-12     2016-01     2016-02     2016-03  \\\n",
       "0  291.497420  293.351372  294.450736  298.824987  312.500000  305.853621   \n",
       "1  391.705069  391.705069  394.703947  406.474820  398.872683  407.801418   \n",
       "2  202.370212  203.732665  203.229699  205.253061  207.118644  211.184211   \n",
       "3  118.315415  119.307286  121.317276  121.869565  121.191176  123.003884   \n",
       "4  255.070400  250.584795  257.575758  270.758123  266.868392  271.804723   \n",
       "\n",
       "      2016-04     2016-05  \n",
       "0  304.308786  312.472192  \n",
       "1  419.203414  419.098914  \n",
       "2  213.067708  214.715000  \n",
       "3  121.788746  121.745277  \n",
       "4  272.701705  276.668729  \n",
       "\n",
       "[5 rows x 83 columns]"
      ]
     },
     "execution_count": 6,
     "metadata": {},
     "output_type": "execute_result"
    }
   ],
   "source": [
    "#visually what the data looks like\n",
    "wa_sales_data.head()"
   ]
  },
  {
   "cell_type": "code",
   "execution_count": 7,
   "metadata": {
    "collapsed": true
   },
   "outputs": [],
   "source": [
    "#adding a column for the most recent Jan YoY growth rate\n",
    "wa_sales_data[\"growth\"] = ((wa_sales_data[\"2016-01\"] - wa_sales_data[\"2015-01\"])/wa_sales_data[\"2015-01\"])"
   ]
  },
  {
   "cell_type": "code",
   "execution_count": 8,
   "metadata": {
    "collapsed": false
   },
   "outputs": [],
   "source": [
    "#merge the data on zip code to get a combined data set with lat/lon\n",
    "com_data = pd.merge(wa_sales_data,zip_code_data[[\"Zipcode\",\"Lat\",\"Long\"]],\\\n",
    "                    left_on=\"RegionName\",right_on=\"Zipcode\")"
   ]
  },
  {
   "cell_type": "code",
   "execution_count": null,
   "metadata": {
    "collapsed": false
   },
   "outputs": [
    {
     "data": {
      "text/html": [
       "<div>\n",
       "<table border=\"1\" class=\"dataframe\">\n",
       "  <thead>\n",
       "    <tr style=\"text-align: right;\">\n",
       "      <th></th>\n",
       "      <th>RegionName</th>\n",
       "      <th>City</th>\n",
       "      <th>State</th>\n",
       "      <th>Metro</th>\n",
       "      <th>CountyName</th>\n",
       "      <th>SizeRank</th>\n",
       "      <th>2010-01</th>\n",
       "      <th>2010-02</th>\n",
       "      <th>2010-03</th>\n",
       "      <th>2010-04</th>\n",
       "      <th>...</th>\n",
       "      <th>2015-12</th>\n",
       "      <th>2016-01</th>\n",
       "      <th>2016-02</th>\n",
       "      <th>2016-03</th>\n",
       "      <th>2016-04</th>\n",
       "      <th>2016-05</th>\n",
       "      <th>growth</th>\n",
       "      <th>Zipcode</th>\n",
       "      <th>Lat</th>\n",
       "      <th>Long</th>\n",
       "    </tr>\n",
       "  </thead>\n",
       "  <tbody>\n",
       "    <tr>\n",
       "      <th>0</th>\n",
       "      <td>98052</td>\n",
       "      <td>Redmond</td>\n",
       "      <td>WA</td>\n",
       "      <td>Seattle</td>\n",
       "      <td>King</td>\n",
       "      <td>101</td>\n",
       "      <td>247.724215</td>\n",
       "      <td>244.422222</td>\n",
       "      <td>244.526587</td>\n",
       "      <td>239.941926</td>\n",
       "      <td>...</td>\n",
       "      <td>294.450736</td>\n",
       "      <td>298.824987</td>\n",
       "      <td>312.500000</td>\n",
       "      <td>305.853621</td>\n",
       "      <td>304.308786</td>\n",
       "      <td>312.472192</td>\n",
       "      <td>0.104804</td>\n",
       "      <td>98052</td>\n",
       "      <td>47.68</td>\n",
       "      <td>-122.12</td>\n",
       "    </tr>\n",
       "    <tr>\n",
       "      <th>1</th>\n",
       "      <td>98103</td>\n",
       "      <td>Seattle</td>\n",
       "      <td>WA</td>\n",
       "      <td>Seattle</td>\n",
       "      <td>King</td>\n",
       "      <td>183</td>\n",
       "      <td>303.578725</td>\n",
       "      <td>302.162162</td>\n",
       "      <td>308.950086</td>\n",
       "      <td>309.999433</td>\n",
       "      <td>...</td>\n",
       "      <td>394.703947</td>\n",
       "      <td>406.474820</td>\n",
       "      <td>398.872683</td>\n",
       "      <td>407.801418</td>\n",
       "      <td>419.203414</td>\n",
       "      <td>419.098914</td>\n",
       "      <td>0.124580</td>\n",
       "      <td>98103</td>\n",
       "      <td>47.67</td>\n",
       "      <td>-122.34</td>\n",
       "    </tr>\n",
       "    <tr>\n",
       "      <th>2</th>\n",
       "      <td>98012</td>\n",
       "      <td>Bothell</td>\n",
       "      <td>WA</td>\n",
       "      <td>Seattle</td>\n",
       "      <td>Snohomish</td>\n",
       "      <td>209</td>\n",
       "      <td>174.816434</td>\n",
       "      <td>173.239824</td>\n",
       "      <td>173.554493</td>\n",
       "      <td>173.520750</td>\n",
       "      <td>...</td>\n",
       "      <td>203.229699</td>\n",
       "      <td>205.253061</td>\n",
       "      <td>207.118644</td>\n",
       "      <td>211.184211</td>\n",
       "      <td>213.067708</td>\n",
       "      <td>214.715000</td>\n",
       "      <td>0.071095</td>\n",
       "      <td>98012</td>\n",
       "      <td>47.84</td>\n",
       "      <td>-122.19</td>\n",
       "    </tr>\n",
       "    <tr>\n",
       "      <th>3</th>\n",
       "      <td>99301</td>\n",
       "      <td>Pasco</td>\n",
       "      <td>WA</td>\n",
       "      <td>Kennewick</td>\n",
       "      <td>Franklin</td>\n",
       "      <td>212</td>\n",
       "      <td>101.902037</td>\n",
       "      <td>103.328321</td>\n",
       "      <td>103.760446</td>\n",
       "      <td>106.513133</td>\n",
       "      <td>...</td>\n",
       "      <td>121.317276</td>\n",
       "      <td>121.869565</td>\n",
       "      <td>121.191176</td>\n",
       "      <td>123.003884</td>\n",
       "      <td>121.788746</td>\n",
       "      <td>121.745277</td>\n",
       "      <td>0.070375</td>\n",
       "      <td>99301</td>\n",
       "      <td>46.41</td>\n",
       "      <td>-118.90</td>\n",
       "    </tr>\n",
       "    <tr>\n",
       "      <th>4</th>\n",
       "      <td>98133</td>\n",
       "      <td>Shoreline</td>\n",
       "      <td>WA</td>\n",
       "      <td>Seattle</td>\n",
       "      <td>King</td>\n",
       "      <td>355</td>\n",
       "      <td>218.454404</td>\n",
       "      <td>217.279213</td>\n",
       "      <td>223.938356</td>\n",
       "      <td>224.273875</td>\n",
       "      <td>...</td>\n",
       "      <td>257.575758</td>\n",
       "      <td>270.758123</td>\n",
       "      <td>266.868392</td>\n",
       "      <td>271.804723</td>\n",
       "      <td>272.701705</td>\n",
       "      <td>276.668729</td>\n",
       "      <td>0.196412</td>\n",
       "      <td>98133</td>\n",
       "      <td>47.73</td>\n",
       "      <td>-122.34</td>\n",
       "    </tr>\n",
       "  </tbody>\n",
       "</table>\n",
       "<p>5 rows × 87 columns</p>\n",
       "</div>"
      ],
      "text/plain": [
       "   RegionName       City State      Metro CountyName  SizeRank     2010-01  \\\n",
       "0       98052    Redmond    WA    Seattle       King       101  247.724215   \n",
       "1       98103    Seattle    WA    Seattle       King       183  303.578725   \n",
       "2       98012    Bothell    WA    Seattle  Snohomish       209  174.816434   \n",
       "3       99301      Pasco    WA  Kennewick   Franklin       212  101.902037   \n",
       "4       98133  Shoreline    WA    Seattle       King       355  218.454404   \n",
       "\n",
       "      2010-02     2010-03     2010-04   ...       2015-12     2016-01  \\\n",
       "0  244.422222  244.526587  239.941926   ...    294.450736  298.824987   \n",
       "1  302.162162  308.950086  309.999433   ...    394.703947  406.474820   \n",
       "2  173.239824  173.554493  173.520750   ...    203.229699  205.253061   \n",
       "3  103.328321  103.760446  106.513133   ...    121.317276  121.869565   \n",
       "4  217.279213  223.938356  224.273875   ...    257.575758  270.758123   \n",
       "\n",
       "      2016-02     2016-03     2016-04     2016-05    growth  Zipcode    Lat  \\\n",
       "0  312.500000  305.853621  304.308786  312.472192  0.104804    98052  47.68   \n",
       "1  398.872683  407.801418  419.203414  419.098914  0.124580    98103  47.67   \n",
       "2  207.118644  211.184211  213.067708  214.715000  0.071095    98012  47.84   \n",
       "3  121.191176  123.003884  121.788746  121.745277  0.070375    99301  46.41   \n",
       "4  266.868392  271.804723  272.701705  276.668729  0.196412    98133  47.73   \n",
       "\n",
       "     Long  \n",
       "0 -122.12  \n",
       "1 -122.34  \n",
       "2 -122.19  \n",
       "3 -118.90  \n",
       "4 -122.34  \n",
       "\n",
       "[5 rows x 87 columns]"
      ]
     },
     "execution_count": 9,
     "metadata": {},
     "output_type": "execute_result"
    }
   ],
   "source": [
    "#ensure the data has the necessary columns\n",
    "com_data.head()"
   ]
  },
  {
   "cell_type": "markdown",
   "metadata": {},
   "source": [
    "This is where we will start plotting, using Basemap. The map is first built using the bottom left, and top right corner in lat/lon to define the desired area, some additional features are added (coastlines, countries, etc...). Then for each row in the data set we convert the lat/lon to usable data for Basemap and append this data, along with the metric of interest (here it is median selling price per square foot) to the respective list which is then passed to the .scatter function of our map, and plotted.\n",
    "\n",
    "NOTE: the 'f' resolution is full, and will take a long time to load for larger maps, use 'l' for low if looking at large maps"
   ]
  },
  {
   "cell_type": "code",
   "execution_count": null,
   "metadata": {
    "collapsed": false
   },
   "outputs": [],
   "source": [
    "plt.figure(figsize=(15,15))\n",
    "m = Basemap(projection='mill', \n",
    "            llcrnrlat = 45.5,\n",
    "            llcrnrlon = -125, \n",
    "            urcrnrlat = 49.5,\n",
    "            urcrnrlon = -117\n",
    "            ,resolution='f')\n",
    "\n",
    "\n",
    "m.drawcoastlines()\n",
    "m.drawcountries(linewidth=2)\n",
    "m.drawstates(color='b')\n",
    "m.drawcounties(color='darkred')\n",
    "\n",
    "xs = []\n",
    "ys = []\n",
    "z = []\n",
    "\n",
    "\n",
    "for i in com_data.index:\n",
    "    xpt, ypt = m(com_data.ix[i][\"Long\"], com_data.ix[i][\"Lat\"])\n",
    "    xs.append(xpt)\n",
    "    ys.append(ypt)\n",
    "    z.append(com_data.ix[i][\"2016-01\"])\n",
    "\n",
    "    \n",
    "\n",
    "\n",
    "m.scatter(xs, ys, c=z)\n",
    "c = plt.colorbar(orientation='horizontal')\n",
    "\n",
    "plt.title(\"Median selling price per square foot\")\n",
    "plt.show()"
   ]
  },
  {
   "cell_type": "markdown",
   "metadata": {},
   "source": [
    "This is the same graph, done the same way but showing the Jan YoY growth of the median selling price per square foot. This shows significantly more variation which is likely due to the inherent normalization of a percent increase. Seattle still dominates but there are noticable differences in neighboring zip codes that are outside of King County."
   ]
  },
  {
   "cell_type": "code",
   "execution_count": null,
   "metadata": {
    "collapsed": false
   },
   "outputs": [],
   "source": [
    "plt.figure(figsize=(15,15))\n",
    "m = Basemap(projection='mill', \n",
    "            llcrnrlat = 45.5,\n",
    "            llcrnrlon = -125, \n",
    "            urcrnrlat = 49.5,\n",
    "            urcrnrlon = -117\n",
    "            ,resolution='f')\n",
    "\n",
    "\n",
    "m.drawcoastlines()\n",
    "m.drawcountries(linewidth=2)\n",
    "m.drawstates(color='b')\n",
    "m.drawcounties(color='darkred')\n",
    "\n",
    "xs = []\n",
    "ys = []\n",
    "z = []\n",
    "\n",
    "\n",
    "for i in com_data.index:\n",
    "    xpt, ypt = m(com_data.ix[i][\"Long\"], com_data.ix[i][\"Lat\"])\n",
    "    xs.append(xpt)\n",
    "    ys.append(ypt)\n",
    "    z.append(com_data.ix[i][\"growth\"])\n",
    "\n",
    "    \n",
    "\n",
    "\n",
    "m.scatter(xs, ys, c=z)\n",
    "c = plt.colorbar(orientation='horizontal')\n",
    "\n",
    "plt.title(\"Jan 2015 to Jan 2016 median selling price per square foot percent change\")\n",
    "plt.show()"
   ]
  },
  {
   "cell_type": "code",
   "execution_count": null,
   "metadata": {
    "collapsed": true
   },
   "outputs": [],
   "source": []
  },
  {
   "cell_type": "code",
   "execution_count": null,
   "metadata": {
    "collapsed": true
   },
   "outputs": [],
   "source": []
  },
  {
   "cell_type": "code",
   "execution_count": null,
   "metadata": {
    "collapsed": true
   },
   "outputs": [],
   "source": []
  },
  {
   "cell_type": "code",
   "execution_count": null,
   "metadata": {
    "collapsed": true
   },
   "outputs": [],
   "source": []
  }
 ],
 "metadata": {
  "kernelspec": {
   "display_name": "Python 3",
   "language": "python",
   "name": "python3"
  },
  "language_info": {
   "codemirror_mode": {
    "name": "ipython",
    "version": 3
   },
   "file_extension": ".py",
   "mimetype": "text/x-python",
   "name": "python",
   "nbconvert_exporter": "python",
   "pygments_lexer": "ipython3",
   "version": "3.5.1"
  }
 },
 "nbformat": 4,
 "nbformat_minor": 0
}
